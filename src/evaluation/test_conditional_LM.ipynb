{
 "cells": [
  {
   "cell_type": "code",
   "execution_count": 1,
   "metadata": {},
   "outputs": [],
   "source": [
    "%load_ext autoreload\n",
    "%autoreload 2\n",
    "\n",
    "import interactive_testing_functions\n",
    "\n",
    "TOPIC_MODEL_DIR='../../models/future_topic_all-20200106-222318'\n",
    "GENERATION_MODEL_DIR='../../models/conditional_all-20200106-235956'\n",
    "DICT_FILE=\"../../data/processed/wiki2016_gpt2/tensors_all_min100/dict_idx_compact\"\n",
    "\n",
    "parser = interactive_testing_functions.create_args_parser()\n",
    "\n",
    "args = parser.parse_args((\"--checkpoint_topics \" + TOPIC_MODEL_DIR +\n",
    "                         \" --checkpoint_conditional \" + GENERATION_MODEL_DIR +\n",
    "                         \" --word_dict \" + DICT_FILE).split())\n",
    "\n",
    "idx2word_freq, word_d2_idx, parallel_encoder, parallel_decoder, word_norm_emb, model_condition, tokenizer_GPT2, device_topics, device_conditional = interactive_testing_functions.load_all_components(args)"
   ]
  },
  {
   "cell_type": "code",
   "execution_count": 11,
   "metadata": {},
   "outputs": [
    {
     "name": "stdout",
     "output_type": "stream",
     "text": [
      "0, book, books, author, novels, paperback, \n",
      "1, Perspective, Matters, Perspectives, Responsibility, Struggle, \n",
      "2, Party, Republican, GOP, Democratic, party, \n",
      "3, Reid, O'Donnell, Hillary, Clinton, Kerry, \n",
      "4, social, empowerment, awareness, relationships, society, \n",
      "5, 2012, 2011, 2013, 2010, 2009, \n",
      "6, know, sure, want, tell, think, \n",
      "7, insistence, assertion, dismissive, criticisms, contrary, \n",
      "8, election, elections, presidential, Republican, Democrats, \n",
      "9, U.S., States, US, America, American, \n",
      "\n"
     ]
    }
   ],
   "source": [
    "prompt = \"Barack Obama writes a new book\" #Modify the input prompt here\n",
    "top_value, top_index, feature = interactive_testing_functions.show_future_topics(prompt, parallel_encoder, parallel_decoder, word_norm_emb, args.n_basis, args.top_k_nn, args.bptt, idx2word_freq, tokenizer_GPT2, device_topics)\n",
    "\n"
   ]
  },
  {
   "cell_type": "code",
   "execution_count": 12,
   "metadata": {},
   "outputs": [
    {
     "name": "stdout",
     "output_type": "stream",
     "text": [
      "conditional 0:  called Obama: How we have everything we need. He also notes that the book calls for Obama to be  a \u001b[31mhappy\u001b[0m family  that is more than welcome at birth. In an episode of his weekly podcast about American conservatism, Obama made an insulting remark\n",
      "word: {'happy': 1}\n",
      "\n",
      "conditional 1:  about the White House:   I am \u001b[31mhappy\u001b[0m to have received all the criticism that has been leveled at me for my \u001b[31massertion\u001b[0m that \u001b[31msocial\u001b[0m inequality may have the power to make us as poor as possible. He calls Barack Obama  a man of the people\n",
      "4 topic: {'social': 1}\n",
      "7 topic: {'assertion': 1}\n",
      "word: {'happy': 1}\n",
      "\n",
      "conditional 2:  called America is a Democrat, a \u001b[31mRepublican\u001b[0m, a Jacksonian and a Liberal. Obama's \u001b[31mcriticisms\u001b[0m of President Clinton and his policy of \u001b[31msocial\u001b[0m justice are reflected in his \u001b[31mcriticisms\u001b[0m of a more positive stance on Israel. On the other hand, those who support a\n",
      "2 topic: {'Republican': 1}\n",
      "4 topic: {'social': 1}\n",
      "7 topic: {'criticisms': 2}\n",
      "\n",
      "original 0:  by way of a review of the previous book:   The New York Times has a column in which he describes what he finds to be the latest developments in the economy since the late 1980s. And the Washington Post reports that he does not have\n",
      "\n",
      "original 1:  titled  An American for Freedom. A critical commentary on Clinton in The New York Times, he also wrote:  I'm glad I was told that I'd be on the list ... it wasn't that great... I did say I could not help\n",
      "\n",
      "original 2:  titled,  A History of the Vietnam War. In 2014, he also wrote for Rolling Stone and Time magazine. A year before his death, he was working on a new biography of his wife, Nancy, a journalist at The Associated Press. In\n",
      "\n"
     ]
    }
   ],
   "source": [
    "selected_conditions = [2,4,7,'happy'] #Modify this to specify your condition\n",
    "#selected_conditions = [2,4,7,'happy'] #This condition means you want to see the topics with index 2,4, and 7 and the word 'happy' in the generated text \n",
    "gen_sent_len = args.gen_sent_len \n",
    "#gen_sent_len = 100 #Uncomment and change this if you want to change the length of the generated sentence\n",
    "num_sent_gen = args.num_sent_gen\n",
    "#num_sent_gen = 1 #Uncomment and change this if you want to generate more sentences at the same time\n",
    "interactive_testing_functions.conditional_generation(selected_conditions, gen_sent_len, num_sent_gen, word_d2_idx, idx2word_freq, model_condition, word_norm_emb, top_index, top_value, feature, args.bptt_conditional, tokenizer_GPT2, device_conditional)\n"
   ]
  },
  {
   "cell_type": "code",
   "execution_count": null,
   "metadata": {},
   "outputs": [],
   "source": []
  }
 ],
 "metadata": {
  "anaconda-cloud": {},
  "kernelspec": {
   "display_name": "Python 3",
   "language": "python",
   "name": "python3"
  },
  "language_info": {
   "codemirror_mode": {
    "name": "ipython",
    "version": 3
   },
   "file_extension": ".py",
   "mimetype": "text/x-python",
   "name": "python",
   "nbconvert_exporter": "python",
   "pygments_lexer": "ipython3",
   "version": "3.7.5"
  }
 },
 "nbformat": 4,
 "nbformat_minor": 2
}
