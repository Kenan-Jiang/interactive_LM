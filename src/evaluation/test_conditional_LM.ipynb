{
 "cells": [
  {
   "cell_type": "code",
   "execution_count": 1,
   "metadata": {
    "collapsed": true
   },
   "outputs": [],
   "source": [
    "%load_ext autoreload\n",
    "%autoreload 2\n",
    "\n",
    "import interactive_testing_functions\n",
    "\n",
    "parser = interactive_testing_functions.create_args_parser()\n",
    "\n",
    "TOPIC_MODEL_DIR='../../models/future_topic_all-20200106-222318_3w'\n",
    "GENERATION_MODEL_DIR='../../models/conditional_all-20200106-235956'\n",
    "DICT_FILE=\"../../data/processed/wiki2016_gpt2/tensors_all_min100/dict_idx_compact\"\n",
    "\n",
    "args = parser.parse_args((\"--checkpoint_topics \" + TOPIC_MODEL_DIR +\n",
    "                         \"--checkpoint_conditional\" + GENERATION_MODEL_DIR +\n",
    "                         \"--word_dict\" + DICT_FILE).split())\n",
    "\n",
    "idx2word_freq, word_d2_idx, parallel_encoder, parallel_decoder, word_norm_emb, model_condition, tokenizer_GPT2, device_topics, device_conditional = load_all_components(args)"
   ]
  },
  {
   "cell_type": "code",
   "execution_count": 4,
   "metadata": {
    "collapsed": false
   },
   "outputs": [
    {
     "name": "stdout",
     "output_type": "stream",
     "text": [
      "['ĠBarack', 'ĠObama', 'Ġwrites', 'Ġa', 'Ġnew', 'Ġbook']\n",
      "0, book, books, novels, author, paperback, \n",
      "1, Essays, Perspectives, Perspective, Discourse, Context, \n",
      "2, University, faculty, undergraduate, university, doctoral, \n",
      "3, Reid, Sen., McConnell, Biden, O'Donnell, \n",
      "4, humanity, life, spirituality, societal, society, \n",
      "5, 2011, 2010, 2009, 2012, 2008, \n",
      "6, know, sure, want, really, think, \n",
      "7, insistence, disdain, dismissive, patently, disingenuous, \n",
      "8, election, elections, Democratic, Republican, presidential, \n",
      "9, U.S., States, United, US, America, \n",
      "\n"
     ]
    }
   ],
   "source": [
    "#prompt = \"Google announces a new product\"\n",
    "prompt = \"Barack Obama writes a new book\"\n",
    "#prompt = \"Barack Obama writes a new book on spirituality and the role of religion in society\"\n",
    "#prompt = \"Barack Obama became the first African\"\n",
    "#prompt = \"The magician curses the zombie\"\n",
    "#with torch.no_grad():\n",
    "#    top_value, top_index, feature = show_future_topics(prompt, parallel_encoder, parallel_decoder, word_norm_emb, args.n_basis, args.top_k_nn, args.bptt, idx2word_freq, tokenizer_GPT2, device_topics)\n",
    "#prompt = \"Trump, the leader of the Republican\"\n",
    "top_value, top_index, feature = interactive_testing_functions.show_future_topics(prompt, parallel_encoder, parallel_decoder, word_norm_emb, args.n_basis, args.top_k_nn, args.bptt, idx2word_freq, tokenizer_GPT2, device_topics)\n",
    "\n"
   ]
  },
  {
   "cell_type": "code",
   "execution_count": 5,
   "metadata": {
    "collapsed": false
   },
   "outputs": [
    {
     "name": "stdout",
     "output_type": "stream",
     "text": [
      "conditional 0:  about the \u001b[31mnew\u001b[0m  \u001b[31mObama\u001b[0m Dream , which is a \u001b[31mbook\u001b[0m about the \u001b[31mnew\u001b[0m \u001b[31mObama\u001b[0m Presidential campaign, titled The \u001b[31mObama\u001b[0m Dream: How \u001b[31mObama\u001b[0m Solved This Financial Crisis, In which \u001b[31mObama\u001b[0m provides an account of the \u001b[31mObama\u001b[0m Presidential campaign from the inauguration of George W. Bush\n",
      "word: {'Obama': 6}\n",
      "word: {'new': 2}\n",
      "word: {'book': 1}\n",
      "\n",
      "conditional 1: . \u001b[31mObama\u001b[0m \u001b[31mwrites\u001b[0m a \u001b[31mnew\u001b[0m \u001b[31mbook\u001b[0m. \u001b[31mObama\u001b[0m also starts a \u001b[31mnew\u001b[0m \u001b[31mbook\u001b[0m deal with a publisher. \u001b[31mObama\u001b[0m opens a \u001b[31mnew\u001b[0m \u001b[31mbook\u001b[0m deal at a national \u001b[31mbook\u001b[0mstore for \u001b[31mnew\u001b[0m \u001b[31mbook\u001b[0ms. \u001b[31mBarack\u001b[0m \u001b[31mObama\u001b[0m opens a \u001b[31mnew\u001b[0m \u001b[31mbook\u001b[0m deal with a publisher. \u001b[31mObama\u001b[0m has a \u001b[31mbook\u001b[0m deal with a\n",
      "word: {'Barack': 1}\n",
      "word: {'Obama': 5}\n",
      "word: {'writes': 1}\n",
      "word: {'new': 5}\n",
      "word: {'book': 7}\n",
      "\n",
      "conditional 2:  for young people, which is expected to be published in spring, 2013, and be published as early as September, 2013. \u001b[31mObama\u001b[0m \u001b[31mwrites\u001b[0m a \u001b[31mnew\u001b[0m \u001b[31mbook\u001b[0m for young people, which is expected to be published in the fall, 2014, and be published as\n",
      "word: {'Obama': 1}\n",
      "word: {'writes': 1}\n",
      "word: {'new': 1}\n",
      "word: {'book': 1}\n",
      "\n",
      "original 0: , The Story of \u001b[31mBarack\u001b[0m \u001b[31mObama\u001b[0m. The \u001b[31mbook\u001b[0m features an interview with \u001b[31mObama\u001b[0m, the results of a two-year research project undertaken by a U.S. federal aid agency known as the  \u001b[31mObama\u001b[0m Study Project , which includes the detailed analysis of \u001b[31mObama\u001b[0m's\n",
      "word: {'Barack': 1}\n",
      "word: {'Obama': 4}\n",
      "word: {'book': 1}\n",
      "\n",
      "original 1: , but has been criticized  for his failure to address social causes. The \u001b[31mbook\u001b[0m, âWhat Makes Americans Workâ, has been described as a âvery poor first editionâ�\n",
      "word: {'book': 1}\n",
      "\n",
      "original 2:  about the battle, stating. After the battle, \u001b[31mObama\u001b[0m said that \u001b[31mObama\u001b[0m  will go up and down against the world in the hope that the U.S. is saved by the leadership of \u001b[31mBarack\u001b[0m \u001b[31mObama\u001b[0m and that  the world will be spared from history\n",
      "word: {'Barack': 1}\n",
      "word: {'Obama': 3}\n",
      "\n"
     ]
    }
   ],
   "source": [
    "#selected_conditions = [4,7,2,'happy'] #[4,8,2,'happy'] #['zombie'] #[2] #['zombie'] #[4,8,2,'happy']\n",
    "#selected_conditions = [9, 8]\n",
    "#selected_conditions = [6, 'story']\n",
    "selected_conditions = ['Barack', 'Obama', 'writes', 'new', 'book']\n",
    "gen_sent_len = args.gen_sent_len\n",
    "#gen_sent_len = 100\n",
    "num_sent_gen = args.num_sent_gen\n",
    "interactive_testing_functions.conditional_generation(selected_conditions, gen_sent_len, num_sent_gen, word_d2_idx, idx2word_freq, model_condition, word_norm_emb, top_index, top_value, feature, args.bptt_conditional, tokenizer_GPT2, device_conditional)\n"
   ]
  }
 ],
 "metadata": {
  "anaconda-cloud": {},
  "kernelspec": {
   "display_name": "Python [anaconda]",
   "language": "python",
   "name": "Python [anaconda]"
  },
  "language_info": {
   "codemirror_mode": {
    "name": "ipython",
    "version": 2
   },
   "file_extension": ".py",
   "mimetype": "text/x-python",
   "name": "python",
   "nbconvert_exporter": "python",
   "pygments_lexer": "ipython2",
   "version": "2.7.15"
  }
 },
 "nbformat": 4,
 "nbformat_minor": 2
}
